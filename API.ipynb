{
 "cells": [
  {
   "cell_type": "code",
   "execution_count": 1,
   "id": "e91b2598-9025-4b85-9515-891e1ce4ab1c",
   "metadata": {},
   "outputs": [],
   "source": [
    "#Question 1\n",
    "#it is a set of rules that define how two pieces of software can interact with each other. APIs are used to allow different software applications to communicate with each other\n",
    "# in real life The Google Maps API allows developers to embed Google Maps in their websites and apps"
   ]
  },
  {
   "cell_type": "code",
   "execution_count": 2,
   "id": "3e7bd808-db25-40e9-9103-67f9b636e840",
   "metadata": {},
   "outputs": [],
   "source": [
    "#Question 2\n",
    "#Advantage of APIs are:\n",
    "#Reusability: APIs can be reused by multiple applications, which can save time and development costs\n",
    "#Security: APIs can be used to securely access data, which is important for applications that handle sensitive data.\n",
    "#Flexibility: APIs can be customized to meet the specific needs of an application.\n",
    "\n",
    "#Disadvante of APIs are:\n",
    "#Complexity: APIs can be complex to understand and use, especially for beginners.\n",
    "#Dependency: APIs can be a dependency on other systems, which can make it difficult to maintain and update.\n",
    "#Lack of control: APIs give control of your data to a third party, which can be a concern for some users."
   ]
  },
  {
   "cell_type": "code",
   "execution_count": 3,
   "id": "65c21014-4db1-4075-9353-f4aa404fb3ca",
   "metadata": {},
   "outputs": [],
   "source": [
    "#Question 3\n",
    "#Web API is a type of API that uses the HTTP protocol to communicate between two pieces of software.\n",
    "#The main difference between an API and a Web API is that a Web API uses the HTTP protocol. The HTTP protocol is a standard protocol for exchanging data over the internet\n",
    "#This makes Web APIs easy to use and accessible from anywhere in the world\n",
    "#Example of web api are google maps api, twitter api , github api"
   ]
  },
  {
   "cell_type": "code",
   "execution_count": 4,
   "id": "313418ed-7452-4a73-89cc-3ca2cf7481b7",
   "metadata": {},
   "outputs": [],
   "source": [
    "#Question 4\n",
    "#REST stands for Representational State Transfer. It is a lightweight architectural style that uses HTTP verbs to define the operations that can \n",
    "#be performed on resources. REST APIs are often easier to develop and use than SOAP APIs.\n",
    "\n",
    "#SOAP stands for Simple Object Access Protocol. It is a more complex architectural style that uses XML to define the data that is exchanged\n",
    "#between clients and servers. SOAP APIs are more complex to develop and use than REST APIs, but they can be more powerful and flexible.\n",
    "\n",
    "#Shortcomings of SOAP:\n",
    "#Complexity: SOAP is more complex to develop and use than REST\n",
    "#Overhead: SOAP messages are larger than REST messages, which can lead to performance problems.\n",
    "#Not as widely used: REST is more widely used than SOAP, which can make it difficult to find developers who are familiar with SOAP."
   ]
  },
  {
   "cell_type": "code",
   "execution_count": null,
   "id": "2fbfe7d5-48e6-4034-a56e-8d50005d4d60",
   "metadata": {},
   "outputs": [],
   "source": [
    "#Question 5\n"
   ]
  }
 ],
 "metadata": {
  "kernelspec": {
   "display_name": "Python 3 (ipykernel)",
   "language": "python",
   "name": "python3"
  },
  "language_info": {
   "codemirror_mode": {
    "name": "ipython",
    "version": 3
   },
   "file_extension": ".py",
   "mimetype": "text/x-python",
   "name": "python",
   "nbconvert_exporter": "python",
   "pygments_lexer": "ipython3",
   "version": "3.11.4"
  }
 },
 "nbformat": 4,
 "nbformat_minor": 5
}
